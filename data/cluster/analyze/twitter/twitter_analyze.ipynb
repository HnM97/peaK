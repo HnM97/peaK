{
 "cells": [
  {
   "cell_type": "code",
   "execution_count": 1,
   "id": "19d06fbc",
   "metadata": {},
   "outputs": [],
   "source": [
    "# Import Libraries\n",
    "import pyspark\n",
    "from pyspark import SQLContext\n",
    "from pyspark.sql.types import IntegerType, StructType, StructField, StringType\n",
    "from pyspark.sql.functions import pandas_udf, monotonically_increasing_id , from_json,col, avg\n",
    "import pandas as pd\n",
    "import pyspark.sql.functions as F\n",
    "from tqdm import trange, notebook\n",
    "import time\n",
    "import datetime\n",
    "import re"
   ]
  },
  {
   "cell_type": "code",
   "execution_count": 2,
   "id": "2afe33f5",
   "metadata": {},
   "outputs": [],
   "source": [
    "spark = SparkSession.builder\\\n",
    "        .master(\"local[3]\")\\\n",
    "        .appName(\"WordCount\")\\\n",
    "        .config(\"spark.driver.memory\", \"8g\")\\\n",
    "        .config('spark.driver.cores', '2')\\\n",
    "        .config(\"spark.sql.legacy.json.allowEmptyString.enabled\", True)\\\n",
    "        .getOrCreate()\n",
    "sc=spark.sparkContext"
   ]
  },
  {
   "cell_type": "code",
   "execution_count": 3,
   "id": "87f48085",
   "metadata": {
    "scrolled": true
   },
   "outputs": [],
   "source": [
    "schema = StructType([\n",
    "    StructField(\"idol\", StringType(), True),\n",
    "    StructField(\"tweet\", StringType(), True),\n",
    "    StructField(\"retweets_count\", IntegerType(), True),\n",
    "    StructField(\"likes_count\", IntegerType(), True),\n",
    "])\n",
    "tdf = spark.read.schema(schema).option(\"encoding\", \"UTF-8\").option(\"allowNonUTF8\", \"true\").option(\"multiLine\",\"true\").json(f\"file:///home/j8a507/cluster/twitter/tweet_data.json\")\n",
    "\n"
   ]
  },
  {
   "cell_type": "code",
   "execution_count": 4,
   "id": "3e066075",
   "metadata": {},
   "outputs": [
    {
     "name": "stderr",
     "output_type": "stream",
     "text": [
      "/home/j8a507/.local/lib/python3.8/site-packages/tqdm/auto.py:21: TqdmWarning: IProgress not found. Please update jupyter and ipywidgets. See https://ipywidgets.readthedocs.io/en/stable/user_install.html\n",
      "  from .autonotebook import tqdm as notebook_tqdm\n"
     ]
    }
   ],
   "source": [
    "# 긍부정 분석 모델\n",
    "from transformers import AutoTokenizer, AutoModelForSequenceClassification, pipeline\n",
    "\n",
    "tokenizer = AutoTokenizer.from_pretrained(\"Woonn/bert-base-finetuned-emotion\")\n",
    "\n",
    "model = AutoModelForSequenceClassification.from_pretrained(\"Woonn/bert-base-finetuned-emotion\")"
   ]
  },
  {
   "cell_type": "code",
   "execution_count": 5,
   "id": "8d68be84",
   "metadata": {},
   "outputs": [],
   "source": [
    "# build pipeline\n",
    "classifier = pipeline(\"sentiment-analysis\", model=model, tokenizer=tokenizer)"
   ]
  },
  {
   "cell_type": "code",
   "execution_count": 6,
   "id": "baf22fc4",
   "metadata": {
    "scrolled": true
   },
   "outputs": [
    {
     "name": "stdout",
     "output_type": "stream",
     "text": [
      "CPU times: user 323 ms, sys: 879 ms, total: 1.2 s\n",
      "Wall time: 3.52 s\n"
     ]
    }
   ],
   "source": [
    "%%time\n",
    "\n",
    "@pandas_udf('float')\n",
    "def sentiment_batch_udf(row: pd.Series) -> pd.Series:\n",
    "  pipe = classifier(row.to_list(), truncation=True, batch_size=2)\n",
    "  result = [round(sentiment['score'], 2) for sentiment in pipe]\n",
    "  return pd.Series(result)\n",
    "\n",
    "result = tdf.select(tdf.idol, tdf.likes_count, tdf.retweets_count, sentiment_batch_udf(tdf.tweet).alias(\"score\"))\n",
    "\n",
    "del tokenizer\n",
    "del model\n",
    "del classifier\n"
   ]
  },
  {
   "cell_type": "code",
   "execution_count": 21,
   "id": "bc520783",
   "metadata": {},
   "outputs": [
    {
     "name": "stderr",
     "output_type": "stream",
     "text": [
      "\r",
      "[Stage 18:>                                                         (0 + 1) / 1]\r"
     ]
    },
    {
     "name": "stdout",
     "output_type": "stream",
     "text": [
      "+--------+-------+--------+------------+\n",
      "|    idol|pos_neg|    idol|action_count|\n",
      "+--------+-------+--------+------------+\n",
      "|  세븐틴|     79|  세븐틴|         246|\n",
      "|블랙핑크|     90|블랙핑크|        1333|\n",
      "+--------+-------+--------+------------+\n",
      "\n"
     ]
    },
    {
     "name": "stderr",
     "output_type": "stream",
     "text": [
      "\r",
      "                                                                                \r"
     ]
    }
   ],
   "source": [
    "adf = tdf.select(tdf.idol, tdf.likes_count, tdf.retweets_count)\n",
    "adf = adf.groupBy(\"idol\").agg((F.sum(\"likes_count\") + F.sum(\"retweets_count\")).alias(\"action_count\"))\n",
    "\n",
    "pdf = result.groupBy(\"idol\").agg((avg(\"score\")*100).cast(\"int\").alias(\"pos_neg\"))\n",
    "                              \n",
    "final_df = pdf.join(adf, adf.idol == pdf.idol, \"inner\")\n",
    "\n",
    "# Replace \"/path/to/partitioned/data\" with the path to your partitioned data in HDFS\n",
    "hdfs_path = \"output/\"\n",
    "\n",
    "# # Replace \"/path/to/local/directory\" with the path to your local directory\n",
    "# local_path = \"file:///home/j8a507/cluster/news/idol_news_count\"\n",
    "\n",
    "# # Download the partitioned directory from HDFS to your local machine\n",
    "# subprocess.check_call([\"hdfs\", \"dfs\", \"-getmerge\", hdfs_path, local_path])"
   ]
  }
 ],
 "metadata": {
  "kernelspec": {
   "display_name": "Python 3 (ipykernel)",
   "language": "python",
   "name": "python3"
  },
  "language_info": {
   "codemirror_mode": {
    "name": "ipython",
    "version": 3
   },
   "file_extension": ".py",
   "mimetype": "text/x-python",
   "name": "python",
   "nbconvert_exporter": "python",
   "pygments_lexer": "ipython3",
   "version": "3.8.10"
  }
 },
 "nbformat": 4,
 "nbformat_minor": 5
}
